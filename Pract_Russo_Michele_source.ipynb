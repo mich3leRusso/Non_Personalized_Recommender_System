{
  "cells": [
    {
      "cell_type": "markdown",
      "metadata": {
        "id": "jOyWh9E5hQyS"
      },
      "source": [
        "Author: Michele Russo"
      ]
    },
    {
      "cell_type": "markdown",
      "metadata": {
        "id": "AMMFKDoRiJrW"
      },
      "source": [
        "#Assignment 3 Recommender System"
      ]
    },
    {
      "cell_type": "code",
      "execution_count": 51,
      "metadata": {
        "id": "s3GCoiyRkR_C"
      },
      "outputs": [],
      "source": [
        "import pandas as pd\n",
        "import numpy as np"
      ]
    },
    {
      "cell_type": "markdown",
      "metadata": {
        "id": "qCz0MOaLigET"
      },
      "source": [
        "##Helper Functions"
      ]
    },
    {
      "cell_type": "code",
      "source": [
        "\n",
        "def get_common_users_ratings(ratings_matrix, movie_id1, movie_id2):\n",
        "    # Filter ratings for movieId 1\n",
        "    ratings_movie_1 = ratings_matrix[ratings_matrix[\"movieId\"] == movie_id1]\n",
        "\n",
        "    # Filter ratings for movieId 2\n",
        "    ratings_movie_2 = ratings_matrix[ratings_matrix[\"movieId\"] == movie_id2]\n",
        "\n",
        "    # Merge the two DataFrames on userId\n",
        "    merged_ratings = pd.merge(ratings_movie_1, ratings_movie_2, on=\"userId\", suffixes=(\"_movie1\", \"_movie2\"))\n",
        "\n",
        "    # Select only the userId and ratings columns for both movies\n",
        "    result = merged_ratings[[\"userId\", \"rating_movie1\", \"rating_movie2\"]]\n",
        "\n",
        "    # Return DataFrame containing ratings from users who rated both movies\n",
        "    return result\n"
      ],
      "metadata": {
        "id": "XCkMlhZdGDwh"
      },
      "execution_count": 52,
      "outputs": []
    },
    {
      "cell_type": "code",
      "execution_count": 53,
      "metadata": {
        "id": "dY5QApq_imYm"
      },
      "outputs": [],
      "source": [
        "\n",
        "\"\"\"\n",
        "    Generate a matrix of recommended movies with their corresponding titles and recommendation values.\n",
        "\n",
        "    Args:\n",
        "    - recommendations: List of tuples containing movie IDs and their recommendation values.\n",
        "    - movies: DataFrame containing movie information including titles.\n",
        "\n",
        "    Returns:\n",
        "    - movie_matrix: A matrix containing movie IDs, titles, and recommendation values.\n",
        "\"\"\"\n",
        "\n",
        "def find_movies(recommendations, movies):\n",
        "\n",
        "    movie_matrix = []  # Initialize an empty list to store movie information\n",
        "    for item in recommendations:\n",
        "        movie_id, value = item[0], item[1]  # Extract movie ID and recommendation value\n",
        "\n",
        "        # Find the movie title corresponding to the movie ID\n",
        "        movie_title = movies[movies[\"movieId\"] == movie_id][\"title\"].values[0]\n",
        "\n",
        "        # Append movie ID, title, and recommendation value to the movie matrix\n",
        "        movie_matrix.append([movie_id, movie_title, value])\n",
        "\n",
        "    return movie_matrix\n"
      ]
    },
    {
      "cell_type": "code",
      "execution_count": 54,
      "metadata": {
        "id": "3VoEq5FIrrMV"
      },
      "outputs": [],
      "source": [
        " \"\"\"\n",
        "    Get the title of a movie based on its movie ID from a movies matrix.\n",
        "\n",
        "    Args:\n",
        "    - movies_matrix: DataFrame containing movie information including titles.\n",
        "    - movie_id: ID of the movie to retrieve the title for.\n",
        "\n",
        "    Returns:\n",
        "    - movie_title: Title of the specified movie.\n",
        "\"\"\"\n",
        "\n",
        "def get_movie_title(movies_matrix, movie_id):\n",
        "    # Find the row corresponding to the given movie ID\n",
        "    movie_row = movies_matrix[movies_matrix[\"movieId\"] == movie_id]\n",
        "\n",
        "    # Extract the title from the movie row\n",
        "    movie_title = movie_row[\"title\"].values[0]\n",
        "\n",
        "    return movie_title\n"
      ]
    },
    {
      "cell_type": "code",
      "execution_count": 55,
      "metadata": {
        "id": "KVvaAWzny4O3"
      },
      "outputs": [],
      "source": [
        "\"\"\"\n",
        "    Find positively similar items, rated by the user, to a given item.\n",
        "\n",
        "    Args:\n",
        "    - user_id: ID of the user whose ratings are considered.\n",
        "    - item_id: ID of the item to find similar items for.\n",
        "    - item_similarity: DataFrame containing item-item similarity values.\n",
        "    - ratings: DataFrame containing user-item ratings.\n",
        "\n",
        "    Returns:\n",
        "    - num_similarities: Number of positively similar items found.\n",
        "    - positive_similarities: List of tuples containing positively similar item IDs and their similarity values.\n",
        "\"\"\"\n",
        "\n",
        "def get_similar_items(user_id, item_id, item_similarity, ratings):\n",
        "    # Filter ratings for the specified user\n",
        "    user_ratings = ratings[ratings[\"userId\"] == user_id]\n",
        "\n",
        "    # Extract movie IDs rated by the user\n",
        "    movies_rated = set(user_ratings[\"movieId\"].tolist())\n",
        "\n",
        "    positive_similarities = []  # Initialize list to store positive similar items\n",
        "\n",
        "    # Iterate over movies rated by the user\n",
        "    for movie_id in movies_rated:\n",
        "        # Find similarity value between the current movie and the given item\n",
        "        value = item_similarity.loc[movie_id, item_id]\n",
        "\n",
        "        # If similarity value is positive, add it to the positive similarities list\n",
        "        if value > 0:\n",
        "            positive_similarities.append((movie_id, value))\n",
        "\n",
        "    # Return the number of positive similar items and the list of positive similar items\n",
        "    return len(positive_similarities), positive_similarities\n"
      ]
    },
    {
      "cell_type": "code",
      "source": [
        "\"\"\"\n",
        "    Get the similarity value between two items from a similarity matrix.\n",
        "\n",
        "    Args:\n",
        "    - item1: ID of the first item.\n",
        "    - item2: ID of the second item.\n",
        "    - similarity_matrix: DataFrame containing item-item similarity values.\n",
        "\n",
        "    Returns:\n",
        "    - similarity: Similarity value between the two items.\n",
        "\"\"\"\n",
        "\n",
        "def get_similarity(item1, item2, similarity_matrix):\n",
        "    # Retrieve the similarity value from the similarity matrix\n",
        "    similarity = similarity_matrix.loc[item1, item2]\n",
        "\n",
        "    return similarity\n"
      ],
      "metadata": {
        "id": "z98NvtWcNpi1"
      },
      "execution_count": 56,
      "outputs": []
    },
    {
      "cell_type": "markdown",
      "metadata": {
        "id": "dd7X_OsdioNN"
      },
      "source": [
        "##Assignment"
      ]
    },
    {
      "cell_type": "code",
      "execution_count": 57,
      "metadata": {
        "id": "nP9MKNiHkPia"
      },
      "outputs": [],
      "source": [
        "def read_csv(file_path):\n",
        "    try:\n",
        "        # Read CSV file into a DataFrame\n",
        "        df = pd.read_csv(file_path)\n",
        "\n",
        "        return df\n",
        "    except Exception as e:\n",
        "        print(\"Error:\", e)\n",
        "        return None\n"
      ]
    },
    {
      "cell_type": "markdown",
      "metadata": {
        "id": "ZMKMqg3uBlAL"
      },
      "source": [
        "###User User CF"
      ]
    },
    {
      "cell_type": "code",
      "execution_count": 58,
      "metadata": {
        "id": "JDSnJA0Xm3Dr"
      },
      "outputs": [],
      "source": [
        "\n",
        "\"\"\"\n",
        "    Calculate the Pearson correlation coefficient between two users based on their ratings.\n",
        "\n",
        "    Args:\n",
        "    - user1_id: ID of the first user.\n",
        "    - user2_id: ID of the second user.\n",
        "    - df: DataFrame containing user-item ratings.\n",
        "\n",
        "    Returns:\n",
        "    - num_common_movies: Number of common movies rated by both users.\n",
        "    - pearson_corr: Pearson correlation coefficient between the two users.\n",
        "\"\"\"\n",
        "def person_corr(user1_id, user2_id, df):\n",
        "    # Extract ratings for user1 and user2\n",
        "    user1_ratings = df[df['userId'] == user1_id].set_index('movieId')['rating']\n",
        "    user2_ratings = df[df['userId'] == user2_id].set_index('movieId')['rating']\n",
        "\n",
        "    # Calculate the average ratings for each user\n",
        "    r1 = user1_ratings.mean()\n",
        "    r2 = user2_ratings.mean()\n",
        "\n",
        "    # Find common movies rated by both users\n",
        "    common_movies = user1_ratings.index.intersection(user2_ratings.index)\n",
        "\n",
        "    if len(common_movies) <= 1:\n",
        "        # If there are no common movies or only one common movie, return correlation of 0\n",
        "        return 0, 0\n",
        "\n",
        "    # Filter ratings for common movies\n",
        "    user1_common_ratings = user1_ratings.loc[common_movies]\n",
        "    user2_common_ratings = user2_ratings.loc[common_movies]\n",
        "\n",
        "    # Calculate the numerator of the Pearson correlation coefficient\n",
        "    numerator = ((user1_common_ratings - r1) * (user2_common_ratings - r2)).sum()\n",
        "\n",
        "    # Calculate the denominator of the Pearson correlation coefficient\n",
        "    denominator = (((user1_common_ratings - r1) ** 2).sum() * ((user2_common_ratings - r2) ** 2).sum()) ** 0.5\n",
        "\n",
        "    if denominator == 0:\n",
        "        # If denominator is 0, return correlation of 0\n",
        "        return 0, 0\n",
        "\n",
        "    # Calculate the Pearson correlation coefficient\n",
        "    pearson_corr = numerator / denominator\n",
        "\n",
        "    return len(common_movies), pearson_corr\n"
      ]
    },
    {
      "cell_type": "code",
      "execution_count": 59,
      "metadata": {
        "id": "qj6hJZJzAg3_"
      },
      "outputs": [],
      "source": [
        "\"\"\"\n",
        "    Weight the Pearson correlation coefficient between two users.\n",
        "\n",
        "    Args:\n",
        "    - user1_id: ID of the first user.\n",
        "    - user2_id: ID of the second user.\n",
        "    - ratings: DataFrame containing user-item ratings.\n",
        "    - y: Weight parameter (default is 10).\n",
        "\n",
        "    Returns:\n",
        "    - weighted_corr: Weighted Pearson correlation coefficient.\n",
        "\"\"\"\n",
        "\n",
        "def weight_per_corr(user1_id, user2_id, ratings, y=10):\n",
        "    # Calculate the number of common movies and Pearson correlation coefficient\n",
        "    n_intersection, pers_corr = person_corr(user1_id, user2_id, ratings)\n",
        "\n",
        "    # Weight the Pearson correlation coefficient\n",
        "    numerator = pers_corr * min(y, n_intersection)\n",
        "\n",
        "    # Normalize by the weight parameter\n",
        "    weighted_corr = numerator / y\n",
        "\n",
        "    return weighted_corr\n"
      ]
    },
    {
      "cell_type": "code",
      "execution_count": 60,
      "metadata": {
        "id": "1gV4G0b5DmlW"
      },
      "outputs": [],
      "source": [
        "\"\"\"\n",
        "    Find the top-k neighbors for a target user who rated a target item based on weighted similarity.\n",
        "\n",
        "    Args:\n",
        "    - target_user: ID of the target user.\n",
        "    - target_item: ID of the target item.\n",
        "    - df: DataFrame containing user-item ratings.\n",
        "    - k: Number of neighbors to find (default is 20).\n",
        "    - mod: Flag to print the number of neighbors with positive correlation (default is 0).\n",
        "\n",
        "    Returns:\n",
        "    - sorted_neighbors: List of top-k neighbors with their weighted similarity scores.\n",
        "\"\"\"\n",
        "\n",
        "def find_neighbors(target_user, target_item, df, k=20, mod=0):\n",
        "    # Filter ratings for the target item\n",
        "    item_ratings = df[df['movieId'] == target_item]\n",
        "\n",
        "    # Find users who rated the target item\n",
        "    item_users = item_ratings['userId'].unique()\n",
        "\n",
        "    # Calculate weighted similarity between target user and other users\n",
        "    similarities = {}\n",
        "    for user in item_users:\n",
        "        if user != target_user:\n",
        "            similarity = weight_per_corr(target_user, user, df)\n",
        "            similarities[user] = similarity\n",
        "\n",
        "    # Sort neighbors by weighted similarity (higher to lower)\n",
        "    sorted_neighbors = sorted(similarities.items(), key=lambda x: (x[1], -x[0]), reverse=True)\n",
        "\n",
        "    # Filter out neighbors with negative similarity values\n",
        "    sorted_neighbors = [(user, similarity) for user, similarity in sorted_neighbors if similarity > 0]\n",
        "\n",
        "    # Print the number of neighbors with positive correlation if mod is True\n",
        "    if mod:\n",
        "        print(\"Number of neighbors with positive correlation:\", len(sorted_neighbors))\n",
        "\n",
        "    # Return top k neighbors\n",
        "    # If not sufficient, return all neighbors\n",
        "    if len(sorted_neighbors) < k:\n",
        "        return sorted_neighbors\n",
        "\n",
        "    return sorted_neighbors[:k]\n",
        "\n",
        "\n",
        "\n",
        "\n",
        "\"\"\"\n",
        "    Predict the rating of a target user for a target item using user-user collaborative filtering.\n",
        "\n",
        "    Args:\n",
        "    - target_user: ID of the target user.\n",
        "    - target_item: ID of the target item.\n",
        "    - df: DataFrame containing user-item ratings.\n",
        "    - neighbors: List of user neighbors with their weighted similarity scores.\n",
        "    - mod: Flag to print intermediate calculation steps (default is 0).\n",
        "\n",
        "    Returns:\n",
        "    - prediction: Predicted rating of the target user for the target item.\n",
        "\"\"\"\n",
        "\n",
        "def uucf_rating_prediction(target_user, target_item, df, neighbors, mod=0):\n",
        "    # If no positive similarity values found, return the mean rating of the target user\n",
        "    if len(neighbors) == 0:\n",
        "        return df[df['userId'] == target_user]['rating'].mean()\n",
        "\n",
        "    # Compute user-mean centered ratings for each neighbor\n",
        "    neighbor_ratings = {}\n",
        "    for neighbor, similarity in neighbors:\n",
        "        neighbor_ratings[neighbor] = df[df['userId'] == neighbor]['rating'].mean()\n",
        "\n",
        "    # Calculate the mean rating of the target user\n",
        "    target_user_mean = df[df['userId'] == target_user]['rating'].mean()\n",
        "\n",
        "    # Calculate the weighted sum of deviations\n",
        "    weighted_sum = 0\n",
        "    total_weight = 0\n",
        "    for neighbor, similarity in neighbors:\n",
        "        deviation = df[(df['userId'] == neighbor) & (df['movieId'] == target_item)]['rating'].values[0] - neighbor_ratings[neighbor]\n",
        "        weighted_sum += deviation * similarity\n",
        "        total_weight += similarity\n",
        "\n",
        "    # Print intermediate calculations if mod is True\n",
        "    if mod:\n",
        "        print(\"Numerator:\", weighted_sum)\n",
        "        print(\"Denominator:\", total_weight)\n",
        "        print(\"Weighted average of the deviation from their mean rating:\", weighted_sum / total_weight)\n",
        "\n",
        "    # Predict the rating\n",
        "    prediction = target_user_mean + (weighted_sum / total_weight)\n",
        "    return prediction\n"
      ]
    },
    {
      "cell_type": "code",
      "execution_count": 61,
      "metadata": {
        "id": "1EbcNVN8HvR-"
      },
      "outputs": [],
      "source": [
        "\"\"\"\n",
        "    Generate top-N recommendations for the target user using User-User Collaborative Filtering.\n",
        "\n",
        "    Args:\n",
        "    - user: ID of the target user.\n",
        "    - df: DataFrame containing user-item ratings.\n",
        "    - n: Number of recommendations to generate (default is 10).\n",
        "\n",
        "    Returns:\n",
        "    - top_n_recommendations: List of top-N recommended items with their predicted ratings.\n",
        "\"\"\"\n",
        "\n",
        "def top_n_recommendations_uucf(user, df, n=10):\n",
        "    # Get all unique items in the system\n",
        "    all_items = df['movieId'].unique()\n",
        "\n",
        "    # Remove items that have already been rated by the user\n",
        "    rated_items = df[df['userId'] == user]['movieId'].unique()\n",
        "    candidate_items = [item for item in all_items if item not in rated_items]\n",
        "\n",
        "    # Calculate prediction scores for candidate items\n",
        "    prediction_scores = {}\n",
        "\n",
        "    for item in candidate_items:\n",
        "        neighbors = find_neighbors(user, item, df)\n",
        "        prediction_scores[item] = uucf_rating_prediction(user, item, df, neighbors)\n",
        "\n",
        "    # Sort candidate items by prediction scores (descending order), and then by item ID (ascending order)\n",
        "    sorted_predictions = sorted(prediction_scores.items(), key=lambda x: (x[1], -x[0]), reverse=True)\n",
        "\n",
        "    # Take top-N recommendations\n",
        "    if n < 0:\n",
        "        return sorted_predictions\n",
        "\n",
        "    top_n_recommendations = sorted_predictions[:n]\n",
        "\n",
        "    return top_n_recommendations\n"
      ]
    },
    {
      "cell_type": "markdown",
      "metadata": {
        "id": "4zTCQT5QIjyF"
      },
      "source": [
        "###Item Item CF"
      ]
    },
    {
      "cell_type": "code",
      "execution_count": 62,
      "metadata": {
        "id": "YNuH4V7BItEL"
      },
      "outputs": [],
      "source": [
        "\n",
        "\"\"\"\n",
        "    Calculate the cosine similarity matrix for all items based on user-item ratings.\n",
        "\n",
        "    Args:\n",
        "    - df: DataFrame containing user-item ratings.\n",
        "\n",
        "    Returns:\n",
        "    - correlation_matrix: DataFrame containing the cosine similarity matrix between all items.\n",
        "\"\"\"\n",
        "\n",
        "def cosine_similarity_tot(df):\n",
        "\n",
        "    # Calculate mean rating for each item\n",
        "    user_means = df.groupby('movieId')['rating'].transform(\"mean\")\n",
        "    df[\"mean\"] = user_means\n",
        "\n",
        "    # Subtract mean rating from each user's rating to center the ratings\n",
        "    df['rating_rescaled'] = df['rating'] - user_means\n",
        "\n",
        "    # Calculate the squared rescaled ratings\n",
        "    df['squared_rescaled_ratings'] = df['rating_rescaled'] ** 2\n",
        "\n",
        "    # Create pivot tables for numerator and denominator\n",
        "    matrix_pivot_numerator = pd.pivot_table(df, index=\"movieId\", columns=\"userId\", values=\"rating_rescaled\", fill_value=0)\n",
        "    matrix_pivot_denominator = pd.pivot_table(df, index=\"movieId\", columns=\"userId\", values=\"squared_rescaled_ratings\", fill_value=0)\n",
        "\n",
        "    # Calculate the sum of the product of centered ratings between users\n",
        "    sum_product_numerator = matrix_pivot_numerator.dot(matrix_pivot_numerator.T)\n",
        "\n",
        "    # Calculate the denominator for each item\n",
        "    column_sums = matrix_pivot_denominator.sum(axis=1)\n",
        "    column_sums = column_sums.values.reshape(-1, 1)\n",
        "    matrix_denominator = column_sums.dot(column_sums.T)\n",
        "\n",
        "    # Calculate the square root of the denominator\n",
        "    matrix_denominator = np.sqrt(matrix_denominator)\n",
        "\n",
        "    # Calculate the correlation matrix using np.divide\n",
        "    correlation_matrix = np.divide(sum_product_numerator, matrix_denominator)\n",
        "\n",
        "    # Set diagonal elements to 1\n",
        "    np.fill_diagonal(correlation_matrix.values, 1)\n",
        "\n",
        "    # Fill NaN values with 0\n",
        "    correlation_matrix = correlation_matrix.fillna(0)\n",
        "\n",
        "    # Convert the correlation matrix to a Pandas DataFrame\n",
        "    correlation_matrix = pd.DataFrame(correlation_matrix, index=sum_product_numerator.index, columns=sum_product_numerator.index)\n",
        "\n",
        "    # Return the correlation matrix\n",
        "    return correlation_matrix\n"
      ]
    },
    {
      "cell_type": "code",
      "execution_count": 63,
      "metadata": {
        "id": "xL9gEMmsJEyL"
      },
      "outputs": [],
      "source": [
        "\n",
        "\"\"\"\n",
        "    Find positively similar items rated by the user to a given item.\n",
        "\n",
        "    Args:\n",
        "    - user_id: ID of the user whose ratings are considered.\n",
        "    - item_id: ID of the item to find similar items for.\n",
        "    - item_similarity: DataFrame containing item-item similarity values.\n",
        "    - ratings: DataFrame containing user-item ratings.\n",
        "    - k: Number of similar items to consider (default is 20).\n",
        "    - mod: Flag to consider only positive similarities (default is 1).\n",
        "\n",
        "    Returns:\n",
        "    - number_elements: Number of positively similar items found.\n",
        "    - similarities: List of tuples containing positively similar item IDs and their similarity values.\n",
        "\"\"\"\n",
        "\n",
        "def get_neighborhood(user_id, item_id, item_similarity, ratings, k=20, mod=1):\n",
        "    # Filter ratings for the specified user\n",
        "    user_ratings = ratings[ratings[\"userId\"] == user_id]\n",
        "    movies_rated = set(user_ratings[\"movieId\"].tolist())\n",
        "\n",
        "    similarities = []\n",
        "    for movie_id in movies_rated:\n",
        "        value = item_similarity.loc[movie_id, item_id]\n",
        "        if mod:\n",
        "            if value > 0:\n",
        "                similarities.append((movie_id, value))\n",
        "        else:\n",
        "            similarities.append((movie_id, value))\n",
        "\n",
        "    # Sort similarities by score (higher to lower)\n",
        "    similarities = sorted(similarities, key=lambda x: (x[1], -x[0]), reverse=True)\n",
        "\n",
        "    number_elements = len(similarities)\n",
        "\n",
        "    if k > 0 and number_elements >= k:\n",
        "        # Take the top k similarities\n",
        "        similarities = similarities[:k]\n",
        "\n",
        "    return number_elements, similarities\n",
        "\n",
        "\n",
        "\"\"\"\n",
        "    Generate a rating prediction for a user and an item based on the similarity with other items.\n",
        "\n",
        "    Args:\n",
        "    - user_id: ID of the target user.\n",
        "    - item_id: ID of the target item.\n",
        "    - item_similarity: DataFrame containing item-item similarity values.\n",
        "    - ratings: DataFrame containing user-item ratings.\n",
        "    - k: Number of similar items to consider (default is 20).\n",
        "    - mod: Flag to consider only positive similarities (default is 1).\n",
        "\n",
        "    Returns:\n",
        "    - prediction: Predicted rating for the target user and item.\n",
        "\"\"\"\n",
        "\n",
        "def recommend(user_id, item_id, item_similarity, ratings, k=20, mod=1):\n",
        "    # Get similar items to the given item for the given user\n",
        "    _, similarities = get_neighborhood(user_id, item_id, item_similarity, ratings, k, mod)\n",
        "\n",
        "    numerator = 0\n",
        "    denominator = 0\n",
        "\n",
        "    # Calculate the weighted sum of ratings of similar items\n",
        "    for sim_item_id, sim_score in similarities:\n",
        "        # Find rating of similar item by the user\n",
        "        rating = ratings[(ratings['userId'] == user_id) & (ratings['movieId'] == sim_item_id)]['rating'].values\n",
        "        if len(rating) > 0:\n",
        "            rating = rating[0]\n",
        "            numerator += sim_score * rating\n",
        "            denominator += abs(sim_score)\n",
        "\n",
        "    # If no similar items have been rated by the user, return 0\n",
        "    if denominator == 0:\n",
        "        return 0\n",
        "\n",
        "    # Calculate the predicted rating\n",
        "    prediction = numerator / denominator\n",
        "    return prediction\n"
      ]
    },
    {
      "cell_type": "code",
      "execution_count": 64,
      "metadata": {
        "id": "9BhG0liorMCk"
      },
      "outputs": [],
      "source": [
        "\"\"\"\n",
        "    Get the similarity value between two items from an item-item similarity matrix.\n",
        "\n",
        "    Args:\n",
        "    - item_similarity: DataFrame containing item-item similarity values.\n",
        "    - item1: ID of the first item.\n",
        "    - item2: ID of the second item.\n",
        "\n",
        "    Returns:\n",
        "    - similarity: Similarity value between the two items.\n",
        "\"\"\"\n",
        "def similarity_value(item_similarity, item1, item2):\n",
        "    # Retrieve the similarity value from the item-item similarity matrix\n",
        "    similarity = item_similarity.loc[item1, item2]\n",
        "\n",
        "    return similarity\n"
      ]
    },
    {
      "cell_type": "code",
      "execution_count": 65,
      "metadata": {
        "id": "aPkvh_XZJRk9"
      },
      "outputs": [],
      "source": [
        "\"\"\"\n",
        "    Generate top-N recommendations for a user based on item-item similarity.\n",
        "\n",
        "    Args:\n",
        "    - user_id: ID of the target user.\n",
        "    - item_similarity: DataFrame containing item-item similarity values.\n",
        "    - ratings: DataFrame containing user-item ratings.\n",
        "    - n: Number of recommendations to generate (default is 10).\n",
        "    - k: Number of similar items to consider for each recommendation (default is 20).\n",
        "    - mod: Flag to consider only positive similarities (default is 1).\n",
        "\n",
        "    Returns:\n",
        "    - recommendations: List of top-N recommended items with their predicted ratings.\n",
        "\"\"\"\n",
        "def get_top_n_recommendations(user_id, item_similarity, ratings, n=10, k=20, mod=1):\n",
        "\n",
        "    recommendations = []\n",
        "\n",
        "    # Get items rated by the user\n",
        "    items_rated_by_user = ratings[ratings['userId'] == user_id]['movieId'].tolist()\n",
        "\n",
        "    # Iterate over all items\n",
        "    for item_id in item_similarity.index:\n",
        "        # Check if the item hasn't been rated by the user\n",
        "        if item_id not in items_rated_by_user:\n",
        "            numerator = 0\n",
        "            denominator = 0\n",
        "\n",
        "            # Calculate prediction for the item\n",
        "            for sim_item_id, sim_score in get_neighborhood(user_id, item_id, item_similarity, ratings, k, mod)[1]:\n",
        "                # Find rating of similar item by the user\n",
        "                rating = ratings[(ratings['userId'] == user_id) & (ratings['movieId'] == sim_item_id)]['rating'].values\n",
        "                if len(rating) > 0:\n",
        "                    rating = rating[0]\n",
        "                    numerator += sim_score * rating\n",
        "                    denominator += abs(sim_score)\n",
        "\n",
        "            # If there are similar items rated by the user\n",
        "            if denominator != 0:\n",
        "                prediction = numerator / denominator\n",
        "                recommendations.append((item_id, prediction))\n",
        "\n",
        "    # Sort recommendations by predicted rating (descending order), and then by item ID (ascending order)\n",
        "    recommendations.sort(key=lambda x: (x[1], -x[0]), reverse=True)\n",
        "\n",
        "    # Return top-N recommendations\n",
        "    if n < 0:\n",
        "        return recommendations\n",
        "\n",
        "    return recommendations[:n]\n"
      ]
    },
    {
      "cell_type": "markdown",
      "metadata": {
        "id": "r77aIrzkQSK6"
      },
      "source": [
        "###Basket Recommendation"
      ]
    },
    {
      "cell_type": "code",
      "execution_count": 66,
      "metadata": {
        "id": "Lpb_xCBiQZGI"
      },
      "outputs": [],
      "source": [
        "\"\"\"\n",
        "    Generate a recommendation score for an item based on its similarity with items in a basket.\n",
        "\n",
        "    Args:\n",
        "    - item_id: ID of the target item or a list of item IDs.\n",
        "    - basket_list: List of item IDs in the basket.\n",
        "    - item_item_similarity: DataFrame containing item-item similarity values.\n",
        "    - mod: Flag to sum all similarities (default is 0) or consider only positive similarities (mod=1).\n",
        "\n",
        "    Returns:\n",
        "    - sim: Recommendation score for the target item.\n",
        "\"\"\"\n",
        "\n",
        "def basket_recommendation(item_id, basket_list, item_item_similarity, mod=0):\n",
        "    # Ensure item_id is a list\n",
        "    if not isinstance(item_id, list):\n",
        "        item_id = [item_id]\n",
        "\n",
        "    # Extract similarity values between target item(s) and items in the basket\n",
        "    extracted_columns = item_item_similarity.loc[item_id, basket_list]\n",
        "\n",
        "    sim = 0\n",
        "    # Calculate recommendation score\n",
        "    if mod:\n",
        "        # Sum all similarity values\n",
        "        sim = extracted_columns.sum(axis=1)\n",
        "    else:\n",
        "        # Consider only positive similarity values\n",
        "        positive_elements = extracted_columns[extracted_columns > 0]\n",
        "        sim = positive_elements.sum(axis=1)\n",
        "\n",
        "    return sim\n"
      ]
    },
    {
      "cell_type": "code",
      "execution_count": 67,
      "metadata": {
        "id": "ws8YhXD2UQNX"
      },
      "outputs": [],
      "source": [
        "\"\"\"\n",
        "    Generate top-N recommendations based on the similarity of items with a basket of items.\n",
        "\n",
        "    Args:\n",
        "    - basket_list: List of item IDs in the basket.\n",
        "    - item_item_similarity: DataFrame containing item-item similarity values.\n",
        "    - n: Number of recommendations to generate (default is 10).\n",
        "    - mod: Flag to sum all similarities (default is 0) or consider only positive similarities (mod=1).\n",
        "\n",
        "    Returns:\n",
        "    - top_n_list: List of top-N recommended items with their recommendation scores.\n",
        "\"\"\"\n",
        "\n",
        "def top_n_basket_recommendation(basket_list, item_item_similarity, n=10, mod=0):\n",
        "    # Get index names (item IDs) from the item-item similarity matrix\n",
        "    index_names = item_item_similarity.index.tolist()\n",
        "    # Filter index names to exclude items already in the basket\n",
        "    filtered_index_names = [name for name in index_names if name not in basket_list]\n",
        "    # Calculate recommendation scores for items not in the basket\n",
        "    row_sum = basket_recommendation(filtered_index_names, basket_list, item_item_similarity, mod)\n",
        "    # Sort the row sums in descending order and get the top n elements\n",
        "    top_n_values = row_sum.sort_values(ascending=False)\n",
        "    # Get the corresponding indices (column names)\n",
        "    top_n_indices = top_n_values.index.tolist()\n",
        "    # Create a list of tuples containing the indices and their corresponding values\n",
        "    top_n_list = [(index, value) for index, value in zip(top_n_indices, top_n_values)]\n",
        "    # Sort the top-N list by recommendation score (descending order) and then by item ID (ascending order)\n",
        "    top_n_list = sorted(top_n_list, key=lambda x: (x[1], -x[0]), reverse=True)\n",
        "\n",
        "    return top_n_list[:n]\n"
      ]
    },
    {
      "cell_type": "markdown",
      "metadata": {
        "id": "2qEiaa1Ttq6c"
      },
      "source": [
        "### Hybrid Recommendation"
      ]
    },
    {
      "cell_type": "code",
      "execution_count": 68,
      "metadata": {
        "id": "pFBXRuQztvd2"
      },
      "outputs": [],
      "source": [
        "\"\"\"\n",
        "    Generate top-N recommendations using a weighted hybrid approach combining two sets of recommendations.\n",
        "\n",
        "    Args:\n",
        "    - UUCF_recommendations: List of user-user collaborative filtering recommendations (item_id, score).\n",
        "    - IICF_recommendations: List of item-item collaborative filtering recommendations (item_id, score).\n",
        "    - weight: Weight of UUCF recommendations in the hybrid approach (default is 0.5).\n",
        "    - N: Number of recommendations to generate (default is 10).\n",
        "\n",
        "    Returns:\n",
        "    - top_N_recommendations: List of top-N combined recommendations with their weighted scores.\n",
        "\"\"\"\n",
        "\n",
        "def weighted_hybrid_recommender(UUCF_recommendations, IICF_recommendations, weight=0.5, N=10):\n",
        "    # Initialize a dictionary to store combined recommendations with weighted sum\n",
        "    combined_recommendations = {}\n",
        "\n",
        "    # Combine recommendations with weighted sum\n",
        "    for item_id, score in UUCF_recommendations:\n",
        "        combined_recommendations[item_id] = combined_recommendations.get(item_id, 0) + weight * score\n",
        "    for item_id, score in IICF_recommendations:\n",
        "        combined_recommendations[item_id] = combined_recommendations.get(item_id, 0) + (1 - weight) * score\n",
        "\n",
        "    # Sort combined recommendations based on the weighted sum and item ID\n",
        "    sorted_combined_recommendations = sorted(combined_recommendations.items(), key=lambda x: (x[1], -x[0]), reverse=True)\n",
        "\n",
        "    # Select top-N recommendations\n",
        "    top_N_recommendations = sorted_combined_recommendations[:N]\n",
        "\n",
        "    return top_N_recommendations\n"
      ]
    },
    {
      "cell_type": "markdown",
      "metadata": {
        "id": "wGZ5SDbbk209"
      },
      "source": [
        "##Test"
      ]
    },
    {
      "cell_type": "code",
      "execution_count": 69,
      "metadata": {
        "id": "P3QWBcS3k40v"
      },
      "outputs": [],
      "source": [
        "\n",
        "# Read CSV files\n",
        "ratings_matrix = pd.read_csv(\"ratings.csv\")\n",
        "movie_matrix = pd.read_csv(\"movies.csv\")\n",
        "\n"
      ]
    },
    {
      "cell_type": "markdown",
      "metadata": {
        "id": "jXAzW7jirLjs"
      },
      "source": [
        "###8.1 UUCF"
      ]
    },
    {
      "cell_type": "code",
      "execution_count": 70,
      "metadata": {
        "id": "AzfNcyF_rQ7j",
        "colab": {
          "base_uri": "https://localhost:8080/"
        },
        "outputId": "da327648-947f-42ba-938e-05a3bee94b48"
      },
      "outputs": [
        {
          "output_type": "stream",
          "name": "stdout",
          "text": [
            "person correlation users 1 and 4 0.042136808375910856\n",
            "person correlation with significance weighting users 1 and 4 0.021068404187955428\n",
            "Number of neighbors with positive correlation: 30\n",
            "top k=20 neighbours  [(390, 0.37976211745379407), (312, 0.3477870022545479), (353, 0.2865915778360536), (428, 0.2729107049454655), (177, 0.2630318859067766), (561, 0.25583582053934906), (405, 0.2023994590198254), (458, 0.1999981580316726), (236, 0.19012109129819604), (247, 0.18298057613606222), (430, 0.1769836444763965), (243, 0.16274849900102134), (285, 0.14863349494711478), (574, 0.14297980920771322), (150, 0.14281903684635436), (608, 0.14008707563881007), (295, 0.13295134132714795), (641, 0.12493900951088492), (592, 0.12403408673701903), (384, 0.1208368018000359)]\n",
            "Numerator: -1.2106211645743594\n",
            "Denominator: 3.998431192914241\n",
            "Weighted average of the deviation from their mean rating: -0.3027740396582898\n",
            "Predicted rating: 2.24722596034171\n"
          ]
        }
      ],
      "source": [
        "#calculate the person correlation between the users id 1 and user id 4\n",
        "movies,person14=person_corr(1,4,ratings_matrix)\n",
        "print(\"person correlation users 1 and 4\", person14)\n",
        "#calculate the person correlation between the users id 1 and user id 4 with weighting\n",
        "person_weight14=weight_per_corr(1,4,ratings_matrix)\n",
        "print(\"person correlation with significance weighting users 1 and 4\", person_weight14)\n",
        "#given item 10 , find the neighbors\n",
        "neighbors = find_neighbors(1, 10, ratings_matrix,mod=1)\n",
        "print(\"top k=20 neighbours \",neighbors)\n",
        "prediction = uucf_rating_prediction(1, 10, ratings_matrix, neighbors,mod=1)\n",
        "print(\"Predicted rating:\", prediction)\n",
        "\n"
      ]
    },
    {
      "cell_type": "code",
      "execution_count": 71,
      "metadata": {
        "id": "IJZBD9Rf-Ie0",
        "colab": {
          "base_uri": "https://localhost:8080/"
        },
        "outputId": "aba6a524-98e9-492b-f664-3db81fd9d857"
      },
      "outputs": [
        {
          "output_type": "stream",
          "name": "stdout",
          "text": [
            "Number of neighbors with positive correlation: 63\n",
            "top k=20 neighbours  [(580, 0.662547274200393), (463, 0.388763881018101), (390, 0.37976211745379407), (585, 0.35062100531729185), (312, 0.3477870022545479), (353, 0.2865915778360536), (394, 0.28168984805199876), (466, 0.28001045251295337), (510, 0.27673467464372237), (428, 0.2729107049454655), (505, 0.2569497023540963), (561, 0.25583582053934906), (533, 0.2485524986721755), (242, 0.24017846543583934), (41, 0.2179899058684344), (22, 0.21035896427251233), (439, 0.20804249079711568), (405, 0.2023994590198254), (452, 0.19218775874226246), (236, 0.19012109129819604)]\n",
            "Numerator: 2.906446403718343\n",
            "Denominator: 5.750034695234129\n",
            "Weighted average of the deviation from their mean rating: 0.5054658898192959\n",
            "Predicted rating: 3.0554658898192955\n"
          ]
        }
      ],
      "source": [
        "#given item 260 , find the neighboors\n",
        "neighbors = find_neighbors(1, 260, ratings_matrix,mod=1)\n",
        "print(\"top k=20 neighbours \",neighbors)\n",
        "prediction = uucf_rating_prediction(1, 260, ratings_matrix, neighbors,mod=1)\n",
        "print(\"Predicted rating:\", prediction)"
      ]
    },
    {
      "cell_type": "code",
      "execution_count": 72,
      "metadata": {
        "colab": {
          "base_uri": "https://localhost:8080/"
        },
        "id": "stMcPpIR-siz",
        "outputId": "c2f3f175-4b49-44d7-925c-4b0888743b74"
      },
      "outputs": [
        {
          "output_type": "stream",
          "name": "stdout",
          "text": [
            "Top-10 recommendations for user 1  [(3216, 4.936834319526627), (40412, 4.936834319526627), (92494, 4.936834319526627), (3320, 4.928235294117647), (4302, 4.928235294117647), (4731, 4.928235294117647), (5071, 4.928235294117647), (86781, 4.928235294117647), (97957, 4.717883488583054), (3414, 4.543621197252207)]\n",
            "[[3216, 'Vampyros Lesbos (Vampiras, Las) (1971)', 4.936834319526627], [40412, \"Dead Man's Shoes (2004)\", 4.936834319526627], [92494, 'Dylan Moran: Monster (2004)', 4.936834319526627], [3320, \"Mifune's Last Song (Mifunes sidste sang) (1999)\", 4.928235294117647], [4302, 'King Is Alive, The (2000)', 4.928235294117647], [4731, 'Innocence (2000)', 4.928235294117647], [5071, 'Maelström (2000)', 4.928235294117647], [86781, 'Incendies (2010)', 4.928235294117647], [97957, 'Excision (2012)', 4.717883488583054], [3414, 'Love Is a Many-Splendored Thing (1955)', 4.543621197252207]]\n"
          ]
        }
      ],
      "source": [
        "#Top n recommendation for user id 1\n",
        "n_recommendations1=top_n_recommendations_uucf(1, ratings_matrix)\n",
        "print(\"Top-10 recommendations for user 1 \", n_recommendations1)\n",
        "top_10_recommendation1=find_movies(n_recommendations1,movie_matrix)\n",
        "print(top_10_recommendation1)\n"
      ]
    },
    {
      "cell_type": "code",
      "execution_count": 73,
      "metadata": {
        "colab": {
          "base_uri": "https://localhost:8080/"
        },
        "id": "2DdYU8ZzEfmT",
        "outputId": "d9b29213-3961-4638-ae4a-5dd34fe0ba27"
      },
      "outputs": [
        {
          "output_type": "stream",
          "name": "stdout",
          "text": [
            "Top-10 recommendations for user 522  [(565, 6.180285714285714), (1450, 6.180285714285714), (1563, 6.180285714285714), (1819, 6.180285714285714), (4076, 6.180285714285714), (4591, 6.180285714285714), (4796, 6.180285714285714), (4930, 6.180285714285714), (5427, 6.180285714285714), (3216, 5.552834319526627)]\n",
            "[[565, 'Cronos (1993)', 6.180285714285714], [1450, 'Prisoner of the Mountains (Kavkazsky plennik) (1996)', 6.180285714285714], [1563, 'Dream With the Fishes (1997)', 6.180285714285714], [1819, 'Storefront Hitchcock (1997)', 6.180285714285714], [4076, 'Two Ninas (1999)', 6.180285714285714], [4591, 'Erik the Viking (1989)', 6.180285714285714], [4796, 'Grass Is Greener, The (1960)', 6.180285714285714], [4930, 'Funeral in Berlin (1966)', 6.180285714285714], [5427, 'Caveman (1981)', 6.180285714285714], [3216, 'Vampyros Lesbos (Vampiras, Las) (1971)', 5.552834319526627]]\n"
          ]
        }
      ],
      "source": [
        "#Top n recommendations for user id 522\n",
        "n_recommendations522=top_n_recommendations_uucf(522, ratings_matrix)\n",
        "print(\"Top-10 recommendations for user 522 \", n_recommendations522)\n",
        "top_10_recommendation522=find_movies(n_recommendations522,movie_matrix)\n",
        "print(top_10_recommendation522)"
      ]
    },
    {
      "cell_type": "markdown",
      "metadata": {
        "id": "RJrIKRc7EqQI"
      },
      "source": [
        "###8.2 IICF"
      ]
    },
    {
      "cell_type": "code",
      "source": [
        "#create the similarity matrix\n",
        "II_similarity_matrix=cosine_similarity_tot(ratings_matrix)\n",
        "print(II_similarity_matrix)"
      ],
      "metadata": {
        "colab": {
          "base_uri": "https://localhost:8080/"
        },
        "id": "cGe832pFQTLu",
        "outputId": "a080f81e-06f4-4f1b-88cd-2d13155246ca"
      },
      "execution_count": 74,
      "outputs": [
        {
          "output_type": "stream",
          "name": "stdout",
          "text": [
            "movieId    1         2         3         4         5         6         7       \\\n",
            "movieId                                                                         \n",
            "1        1.000000  0.143077  0.076882  0.008127  0.093661  0.014571  0.109841   \n",
            "2        0.143077  1.000000  0.023050  0.042711  0.009544 -0.003685  0.103450   \n",
            "3        0.076882  0.023050  1.000000  0.015516  0.227926 -0.000419  0.022623   \n",
            "4        0.008127  0.042711  0.015516  1.000000  0.091506 -0.020982  0.185295   \n",
            "5        0.093661  0.009544  0.227926  0.091506  1.000000  0.114900  0.005068   \n",
            "...           ...       ...       ...       ...       ...       ...       ...   \n",
            "161944   0.000000  0.000000  0.000000  0.000000  0.000000  0.000000  0.000000   \n",
            "162376   0.000000  0.000000  0.000000  0.000000  0.000000  0.000000  0.000000   \n",
            "162542   0.000000  0.000000  0.000000  0.000000  0.000000  0.000000  0.000000   \n",
            "162672   0.000000  0.000000  0.000000  0.000000  0.000000  0.000000  0.000000   \n",
            "163949   0.000000  0.000000  0.000000  0.000000  0.000000  0.000000  0.000000   \n",
            "\n",
            "movieId    8         9         10      ...  161084  161155  161594  161830  \\\n",
            "movieId                                ...                                   \n",
            "1        0.005078 -0.059312  0.029760  ...     0.0     0.0     0.0     0.0   \n",
            "2        0.123319  0.052530  0.193042  ...     0.0     0.0     0.0     0.0   \n",
            "3        0.139844  0.102854  0.023421  ...     0.0     0.0     0.0     0.0   \n",
            "4        0.149702 -0.072775  0.033461  ...     0.0     0.0     0.0     0.0   \n",
            "5        0.127919  0.088390  0.013011  ...     0.0     0.0     0.0     0.0   \n",
            "...           ...       ...       ...  ...     ...     ...     ...     ...   \n",
            "161944   0.000000  0.000000  0.000000  ...     0.0     0.0     0.0     0.0   \n",
            "162376   0.000000  0.000000  0.000000  ...     0.0     0.0     0.0     0.0   \n",
            "162542   0.000000  0.000000  0.000000  ...     0.0     0.0     0.0     0.0   \n",
            "162672   0.000000  0.000000  0.000000  ...     0.0     0.0     0.0     0.0   \n",
            "163949   0.000000  0.000000  0.000000  ...     0.0     0.0     0.0     0.0   \n",
            "\n",
            "movieId  161918  161944  162376  162542  162672  163949  \n",
            "movieId                                                  \n",
            "1           0.0     0.0     0.0     0.0     0.0     0.0  \n",
            "2           0.0     0.0     0.0     0.0     0.0     0.0  \n",
            "3           0.0     0.0     0.0     0.0     0.0     0.0  \n",
            "4           0.0     0.0     0.0     0.0     0.0     0.0  \n",
            "5           0.0     0.0     0.0     0.0     0.0     0.0  \n",
            "...         ...     ...     ...     ...     ...     ...  \n",
            "161944      0.0     1.0     0.0     0.0     0.0     0.0  \n",
            "162376      0.0     0.0     1.0     0.0     0.0     0.0  \n",
            "162542      0.0     0.0     0.0     1.0     0.0     0.0  \n",
            "162672      0.0     0.0     0.0     0.0     1.0     0.0  \n",
            "163949      0.0     0.0     0.0     0.0     0.0     1.0  \n",
            "\n",
            "[9066 rows x 9066 columns]\n"
          ]
        }
      ]
    },
    {
      "cell_type": "code",
      "execution_count": 75,
      "metadata": {
        "id": "Mc1tnC02n3Rv",
        "colab": {
          "base_uri": "https://localhost:8080/"
        },
        "outputId": "953c86b6-a174-4617-d8cd-6c1885c106ec"
      },
      "outputs": [
        {
          "output_type": "stream",
          "name": "stdout",
          "text": [
            "Number of strictly positive elements: 8796276\n"
          ]
        }
      ],
      "source": [
        "#count the number of positive elements into the matrix\n",
        "positive_count = ((II_similarity_matrix > 0).values).sum()\n",
        "print(\"Number of strictly positive elements:\", positive_count)\n"
      ]
    },
    {
      "cell_type": "code",
      "execution_count": 76,
      "metadata": {
        "id": "K2SsEBCzsLCp",
        "colab": {
          "base_uri": "https://localhost:8080/"
        },
        "outputId": "7c590294-172b-48aa-9914-391a997ca38a"
      },
      "outputs": [
        {
          "output_type": "stream",
          "name": "stdout",
          "text": [
            "Element at row 594 and column 596 : 0.31043233186829366\n",
            "Pinocchio (1940)\n",
            "Snow White and the Seven Dwarfs (1937)\n",
            "177      5.0\n",
            "455      4.0\n",
            "3296     5.0\n",
            "5168     4.0\n",
            "9216     2.0\n",
            "        ... \n",
            "93631    4.0\n",
            "95797    3.0\n",
            "96393    2.0\n",
            "96444    4.0\n",
            "99337    5.0\n",
            "Name: rating, Length: 66, dtype: float64\n",
            "176      5.0\n",
            "532      4.0\n",
            "942      1.0\n",
            "1106     2.5\n",
            "3294     4.0\n",
            "        ... \n",
            "96442    4.0\n",
            "97551    4.0\n",
            "98350    5.0\n",
            "99335    3.0\n",
            "99792    4.0\n",
            "Name: rating, Length: 71, dtype: float64\n",
            "User IDs and Ratings for Movie 596:\n",
            "       userId  rating\n",
            "177         4     5.0\n",
            "3296       19     5.0\n",
            "5168       30     4.0\n",
            "9216       61     2.0\n",
            "10345      73     3.5\n",
            "13442      86     4.0\n",
            "13573      88     4.0\n",
            "15428     102     4.0\n",
            "18989     126     4.0\n",
            "19425     130     4.0\n",
            "25208     185     3.0\n",
            "25464     187     3.5\n",
            "25820     188     5.0\n",
            "28486     212     3.0\n",
            "29342     213     2.0\n",
            "31732     232     5.0\n",
            "40255     294     3.0\n",
            "42034     302     4.0\n",
            "43501     311     2.0\n",
            "48389     354     4.0\n",
            "48861     358     3.0\n",
            "49666     363     5.0\n",
            "55212     396     3.0\n",
            "55418     400     4.0\n",
            "57841     420     3.0\n",
            "64212     461     3.0\n",
            "65413     466     5.0\n",
            "65768     468     4.0\n",
            "70410     487     4.0\n",
            "71815     505     3.0\n",
            "73627     514     4.0\n",
            "74203     518     4.0\n",
            "76689     531     3.5\n",
            "78562     547     4.0\n",
            "82165     561     1.5\n",
            "83175     564     4.0\n",
            "85634     575     4.0\n",
            "86595     580     3.5\n",
            "87474     582     3.5\n",
            "89201     595     4.0\n",
            "90772     603     4.0\n",
            "93631     624     4.0\n",
            "96444     646     4.0\n",
            "99337     665     5.0\n",
            "User IDs and Ratings for Movie 594:\n",
            "       userId  rating\n",
            "176         4     5.0\n",
            "3294       19     4.0\n",
            "5166       30     3.0\n",
            "9214       61     3.5\n",
            "10343      73     3.5\n",
            "13440      86     4.0\n",
            "13571      88     4.0\n",
            "15427     102     5.0\n",
            "18987     126     3.0\n",
            "19423     130     4.0\n",
            "25206     185     3.0\n",
            "25462     187     4.0\n",
            "25818     188     5.0\n",
            "28484     212     3.0\n",
            "29340     213     2.0\n",
            "31730     232     5.0\n",
            "40253     294     4.0\n",
            "42032     302     3.0\n",
            "43499     311     3.0\n",
            "48387     354     3.0\n",
            "48859     358     4.0\n",
            "49664     363     5.0\n",
            "55210     396     3.0\n",
            "55416     400     5.0\n",
            "57839     420     3.0\n",
            "64210     461     3.0\n",
            "65411     466     5.0\n",
            "65766     468     4.0\n",
            "70408     487     4.0\n",
            "71814     505     3.5\n",
            "73625     514     4.0\n",
            "74201     518     4.0\n",
            "76687     531     4.0\n",
            "78560     547     5.0\n",
            "82163     561     2.0\n",
            "83173     564     4.0\n",
            "85632     575     3.0\n",
            "86593     580     4.0\n",
            "87472     582     4.0\n",
            "89199     595     3.0\n",
            "90770     603     4.0\n",
            "93630     624     4.0\n",
            "96442     646     4.0\n",
            "99335     665     3.0\n"
          ]
        }
      ],
      "source": [
        "#calculate the cosine similarity between movies id = 594 and id = 596\n",
        "value=similarity_value(II_similarity_matrix,596,594)\n",
        "print(\"Element at row\", 594, \"and column\", 596, \":\", value)\n",
        "\n",
        "#get the name of the films\n",
        "name596=get_movie_title(movie_matrix,596 )\n",
        "name594=get_movie_title(movie_matrix,594 )\n",
        "print(name596)\n",
        "print(name594)\n",
        "\n",
        "print(ratings_matrix[ratings_matrix[\"movieId\"]==596][\"rating\"])\n",
        "print(ratings_matrix[ratings_matrix[\"movieId\"]==594][\"rating\"])\n",
        "\n",
        "# Find common users who have rated both movies\n",
        "common_users = set(ratings_matrix[ratings_matrix[\"movieId\"] == 596][\"userId\"]).intersection(set(ratings_matrix[ratings_matrix[\"movieId\"] == 594][\"userId\"]))\n",
        "\n",
        "# Print user IDs and ratings for movie 596\n",
        "print(\"User IDs and Ratings for Movie 596:\")\n",
        "print(ratings_matrix[(ratings_matrix[\"movieId\"] == 596) & (ratings_matrix[\"userId\"].isin(common_users))][[\"userId\", \"rating\"]])\n",
        "\n",
        "# Print user IDs and ratings for movie 594\n",
        "print(\"User IDs and Ratings for Movie 594:\")\n",
        "print(ratings_matrix[(ratings_matrix[\"movieId\"] == 594) & (ratings_matrix[\"userId\"].isin(common_users))][[\"userId\", \"rating\"]])\n"
      ]
    },
    {
      "cell_type": "code",
      "execution_count": 77,
      "metadata": {
        "id": "qxREA5GqNHxP",
        "colab": {
          "base_uri": "https://localhost:8080/"
        },
        "outputId": "c1e9e18e-a491-4102-a4fc-90e97513fbc0"
      },
      "outputs": [
        {
          "output_type": "stream",
          "name": "stdout",
          "text": [
            "number of positive similarities for user 522 give the item 25:  160\n",
            "[[4239, 'Blow (2001)', 0.14678734979171315], [44191, 'V for Vendetta (2006)', 0.13850455754010027], [778, 'Trainspotting (1996)', 0.13802688111417477], [1092, 'Basic Instinct (1992)', 0.130573051771941], [485, 'Last Action Hero (1993)', 0.12462113294565984], [81845, \"King's Speech, The (2010)\", 0.12143250948890247], [165, 'Die Hard: With a Vengeance (1995)', 0.11451716732306033], [122, 'Boomerang (1992)', 0.10486439864836593], [4019, 'Finding Forrester (2000)', 0.0981149558263367], [68157, 'Inglourious Basterds (2009)', 0.09799314504677242], [64839, 'Wrestler, The (2008)', 0.09536885947503582], [6947, 'Master and Commander: The Far Side of the World (2003)', 0.09066515469223772], [1391, 'Mars Attacks! (1996)', 0.08726682721961322], [193, 'Showgirls (1995)', 0.08722732656443696], [30707, 'Million Dollar Baby (2004)', 0.0859246539362791], [2762, 'Sixth Sense, The (1999)', 0.08525999008350205], [1732, 'Big Lebowski, The (1998)', 0.0827358961284405], [55247, 'Into the Wild (2007)', 0.07972196331141021], [1213, 'Goodfellas (1990)', 0.0786604521008153], [1466, 'Donnie Brasco (1997)', 0.07752398433670256]]\n"
          ]
        }
      ],
      "source": [
        "#Calculate a rating prediction for the target item with id=25 for user with id=522.\n",
        "\n",
        "number_positive_sim, positive_similarities=get_neighborhood(522,25,II_similarity_matrix,ratings_matrix,k=0)\n",
        "print(\"number of positive similarities for user 522 give the item 25: \",number_positive_sim)\n",
        "\n",
        "#provide the neigborhood\n",
        "number_positive_sim_k, positive_similarities_k=get_neighborhood(522,25,II_similarity_matrix,ratings_matrix)\n",
        "\n",
        "print(find_movies(positive_similarities_k, movie_matrix))"
      ]
    },
    {
      "cell_type": "code",
      "execution_count": 78,
      "metadata": {
        "id": "49d3-CS92HTq",
        "colab": {
          "base_uri": "https://localhost:8080/"
        },
        "outputId": "9f0a1c02-cf9e-4e9a-ccb8-aaea50c3e140"
      },
      "outputs": [
        {
          "output_type": "stream",
          "name": "stdout",
          "text": [
            "[[1232, 'Stalker (1979)', 3.912455651258436], [5690, 'Grave of the Fireflies (Hotaru no haka) (1988)', 3.894039444048318], [58998, 'Forgetting Sarah Marshall (2008)', 3.8797604069770775], [6794, \"Beethoven's 2nd (1993)\", 3.8737565000535774], [69275, 'Dead Snow (Død snø) (2009)', 3.84812273775676], [72407, 'Twilight Saga: New Moon, The (2009)', 3.845032856608199], [62336, 'FLCL (2000)', 3.830743886234508], [5903, 'Equilibrium (2002)', 3.8225894002109735], [1088, 'Dirty Dancing (1987)', 3.811169352967176], [37475, 'Unfinished Life, An (2005)', 3.809553790636538]]\n",
            "Leaving Las Vegas (1995)\n"
          ]
        }
      ],
      "source": [
        "#Calculate the Top-N recommendations for the user with id = 522\n",
        "top_10_recommendation522_iicf=get_top_n_recommendations(522, II_similarity_matrix, ratings_matrix,10)\n",
        "print(find_movies(top_10_recommendation522_iicf,movie_matrix))\n",
        "print(get_movie_title(movie_matrix,25 ))"
      ]
    },
    {
      "cell_type": "markdown",
      "metadata": {
        "id": "rMX2ZXkdJ_HB"
      },
      "source": [
        "###8.3 Basket Recommendatios"
      ]
    },
    {
      "cell_type": "code",
      "execution_count": 79,
      "metadata": {
        "id": "2bTgTzV4MgVc",
        "colab": {
          "base_uri": "https://localhost:8080/"
        },
        "outputId": "226132fa-aa98-4e8c-cf12-e7e8af0a3a11"
      },
      "outputs": [
        {
          "output_type": "stream",
          "name": "stdout",
          "text": [
            "[(3114, 0.38751909607714247), (2355, 0.2918505710072837), (364, 0.2679706395354099), (588, 0.2424521970778878), (4886, 0.23609185999396126), (4306, 0.2337924887232159), (58559, 0.22285149745651742), (5349, 0.22253962836326827), (1092, 0.22136134667493135), (8961, 0.22061205440681192)]\n",
            "[[3114, 'Toy Story 2 (1999)', 0.38751909607714247], [2355, \"Bug's Life, A (1998)\", 0.2918505710072837], [364, 'Lion King, The (1994)', 0.2679706395354099], [588, 'Aladdin (1992)', 0.2424521970778878], [4886, 'Monsters, Inc. (2001)', 0.23609185999396126], [4306, 'Shrek (2001)', 0.2337924887232159], [58559, 'Dark Knight, The (2008)', 0.22285149745651742], [5349, 'Spider-Man (2002)', 0.22253962836326827], [1092, 'Basic Instinct (1992)', 0.22136134667493135], [8961, 'Incredibles, The (2004)', 0.22061205440681192]]\n",
            "[(2355, 0.6332192482383019), (3810, 0.5908157457013644), (364, 0.5853370435975439), (3807, 0.5851419830836279), (2089, 0.5754033369218359), (54276, 0.5325588921786969), (2772, 0.5266741503467427), (3114, 0.49995186300215533), (2531, 0.4931761460738657), (2045, 0.49294266942589804)]\n",
            "[[2355, \"Bug's Life, A (1998)\", 0.6332192482383019], [3810, 'White Sands (1992)', 0.5908157457013644], [364, 'Lion King, The (1994)', 0.5853370435975439], [3807, 'Sinbad and the Eye of the Tiger (1977)', 0.5851419830836279], [2089, 'Rescuers Down Under, The (1990)', 0.5754033369218359], [54276, 'No Reservations (2007)', 0.5325588921786969], [2772, 'Detroit Rock City (1999)', 0.5266741503467427], [3114, 'Toy Story 2 (1999)', 0.49995186300215533], [2531, 'Battle for the Planet of the Apes (1973)', 0.4931761460738657], [2045, 'Far Off Place, A (1993)', 0.49294266942589804]]\n",
            "[(2355, 0.6332192482383019), (364, 0.5853370435975439), (2089, 0.5754033369218359), (54276, 0.5189877437623069), (3114, 0.49995186300215533), (5066, 0.48162391875216476), (783, 0.47165016615653216), (7045, 0.4645944089640469), (103341, 0.44673547494869525), (13, 0.4464494427744053)]\n",
            "[[2355, \"Bug's Life, A (1998)\", 0.6332192482383019], [364, 'Lion King, The (1994)', 0.5853370435975439], [2089, 'Rescuers Down Under, The (1990)', 0.5754033369218359], [54276, 'No Reservations (2007)', 0.5189877437623069], [3114, 'Toy Story 2 (1999)', 0.49995186300215533], [5066, 'Walk to Remember, A (2002)', 0.48162391875216476], [783, 'Hunchback of Notre Dame, The (1996)', 0.47165016615653216], [7045, 'Witches, The (1990)', 0.4645944089640469], [103341, \"World's End, The (2013)\", 0.44673547494869525], [13, 'Balto (1995)', 0.4464494427744053]]\n",
            "Toy Story (1995)\n",
            "Pocahontas (1995)\n",
            "Goofy Movie, A (1995)\n"
          ]
        }
      ],
      "source": [
        "basket_list=[1]\n",
        "top_recommendation=top_n_basket_recommendation(basket_list,II_similarity_matrix)\n",
        "print(top_recommendation)\n",
        "print(find_movies(top_recommendation,movie_matrix))\n",
        "\n",
        "#h id=1, id=48, id=239\n",
        "basket_list=[1,48,239]\n",
        "\n",
        "top_recommendation=top_n_basket_recommendation(basket_list,II_similarity_matrix)\n",
        "print(top_recommendation)\n",
        "print(find_movies(top_recommendation,movie_matrix))\n",
        "#\n",
        "top_recommendation=top_n_basket_recommendation(basket_list,II_similarity_matrix,10,1)\n",
        "print(top_recommendation)\n",
        "print(find_movies(top_recommendation,movie_matrix))\n",
        "\n",
        "#get movie name\n",
        "print(get_movie_title(movie_matrix,1))\n",
        "print(get_movie_title(movie_matrix,48))\n",
        "print(get_movie_title(movie_matrix,239))"
      ]
    },
    {
      "cell_type": "code",
      "source": [
        "\n",
        "basket_list=[48]\n",
        "\n",
        "top_recommendation=top_n_basket_recommendation(basket_list,II_similarity_matrix)\n",
        "print(top_recommendation)\n",
        "print(find_movies(top_recommendation,movie_matrix))\n",
        "\n",
        "\n",
        "\n",
        "basket_list=[239]\n",
        "\n",
        "top_recommendation=top_n_basket_recommendation(basket_list,II_similarity_matrix)\n",
        "print(top_recommendation)\n",
        "print(find_movies(top_recommendation,movie_matrix))\n"
      ],
      "metadata": {
        "colab": {
          "base_uri": "https://localhost:8080/"
        },
        "id": "pBJqKqLtKyj2",
        "outputId": "b2700cfb-aa3f-4b61-cbfd-85e87ef17e50"
      },
      "execution_count": 80,
      "outputs": [
        {
          "output_type": "stream",
          "name": "stdout",
          "text": [
            "[(2558, 0.3984611897293433), (888, 0.3459141674116619), (2040, 0.3362803097709172), (2876, 0.32103514015660467), (2017, 0.3032548333720153), (881, 0.2859535574132957), (1021, 0.2804068123262101), (257, 0.27801773796537266), (1760, 0.27062189735913744), (2500, 0.2647288518658158)]\n",
            "[[2558, 'Forces of Nature (1999)', 0.3984611897293433], [888, 'Land Before Time III: The Time of the Great Giving (1995)', 0.3459141674116619], [2040, 'Computer Wore Tennis Shoes, The (1969)', 0.3362803097709172], [2876, 'Thumbelina (1994)', 0.32103514015660467], [2017, 'Babes in Toyland (1961)', 0.3032548333720153], [881, 'First Kid (1996)', 0.2859535574132957], [1021, 'Angels in the Outfield (1994)', 0.2804068123262101], [257, 'Just Cause (1995)', 0.27801773796537266], [1760, 'Spice World (1997)', 0.27062189735913744], [2500, 'Jawbreaker (1999)', 0.2647288518658158]]\n",
            "[(3807, 0.5805688433876184), (3810, 0.5795906744610713), (2772, 0.5232126833417525), (2532, 0.48784947653240734), (2531, 0.47680872524790535), (2668, 0.46182890387952635), (2530, 0.43140773318011694), (3771, 0.4308272115396915), (2045, 0.40487781011888424), (2533, 0.4015991517413095)]\n",
            "[[3807, 'Sinbad and the Eye of the Tiger (1977)', 0.5805688433876184], [3810, 'White Sands (1992)', 0.5795906744610713], [2772, 'Detroit Rock City (1999)', 0.5232126833417525], [2532, 'Conquest of the Planet of the Apes (1972)', 0.48784947653240734], [2531, 'Battle for the Planet of the Apes (1973)', 0.47680872524790535], [2668, 'Swamp Thing (1982)', 0.46182890387952635], [2530, 'Beneath the Planet of the Apes (1970)', 0.43140773318011694], [3771, 'The Golden Voyage of Sinbad (1973)', 0.4308272115396915], [2045, 'Far Off Place, A (1993)', 0.40487781011888424], [2533, 'Escape from the Planet of the Apes (1971)', 0.4015991517413095]]\n"
          ]
        }
      ]
    },
    {
      "cell_type": "markdown",
      "metadata": {
        "id": "j-9C9HIfsfdJ"
      },
      "source": [
        "###8.4 Hybrid Recommendation"
      ]
    },
    {
      "cell_type": "code",
      "source": [
        "#Top-N recommendations for the user with id 522 using the Hybrid recommender\n",
        "#get the UUCF recommendations\n",
        "top_recommendations_uucf=top_n_recommendations_uucf(522,ratings_matrix,n=-1)\n",
        "\n",
        "top_recommendations_iicf=get_top_n_recommendations(522,II_similarity_matrix,ratings_matrix,n=-1)"
      ],
      "metadata": {
        "id": "E3VrNwjH5t8O"
      },
      "execution_count": 81,
      "outputs": []
    },
    {
      "cell_type": "code",
      "source": [
        "\n",
        "top_10_hybrid_recommendatins=weighted_hybrid_recommender(top_recommendations_uucf,top_recommendations_iicf)\n",
        "print(top_10_hybrid_recommendatins)\n",
        "find_movies(top_10_hybrid_recommendatins,movie_matrix)"
      ],
      "metadata": {
        "colab": {
          "base_uri": "https://localhost:8080/"
        },
        "id": "lwHzGK3kCLTu",
        "outputId": "4469c41c-d0d8-46a2-dbd6-d78589a1bfd7"
      },
      "execution_count": 82,
      "outputs": [
        {
          "output_type": "stream",
          "name": "stdout",
          "text": [
            "[(565, 4.785879967737465), (40412, 4.4899028879097065), (2304, 4.120966372009207), (4518, 4.094669351883896), (85438, 4.085897159325705), (85179, 4.07217115682438), (6063, 4.071367959413578), (26587, 4.059822786332655), (1564, 4.04927569318833), (1860, 4.040194212857106)]\n"
          ]
        },
        {
          "output_type": "execute_result",
          "data": {
            "text/plain": [
              "[[565, 'Cronos (1993)', 4.785879967737465],\n",
              " [40412, \"Dead Man's Shoes (2004)\", 4.4899028879097065],\n",
              " [2304, 'Love Is the Devil (1998)', 4.120966372009207],\n",
              " [4518, 'The Lair of the White Worm (1988)', 4.094669351883896],\n",
              " [85438, 'Jane Eyre (2011)', 4.085897159325705],\n",
              " [85179, 'Summer Wars (Samâ wôzu) (2009)', 4.07217115682438],\n",
              " [6063, 'May (2002)', 4.071367959413578],\n",
              " [26587, 'Decalogue, The (Dekalog) (1989)', 4.059822786332655],\n",
              " [1564, \"For Roseanna (Roseanna's Grave) (1997)\", 4.04927569318833],\n",
              " [1860, 'Character (Karakter) (1997)', 4.040194212857106]]"
            ]
          },
          "metadata": {},
          "execution_count": 82
        }
      ]
    }
  ],
  "metadata": {
    "colab": {
      "provenance": [],
      "collapsed_sections": [
        "ZMKMqg3uBlAL",
        "4zTCQT5QIjyF",
        "r77aIrzkQSK6",
        "2qEiaa1Ttq6c",
        "RJrIKRc7EqQI"
      ]
    },
    "kernelspec": {
      "display_name": "Python 3",
      "name": "python3"
    },
    "language_info": {
      "name": "python"
    }
  },
  "nbformat": 4,
  "nbformat_minor": 0
}